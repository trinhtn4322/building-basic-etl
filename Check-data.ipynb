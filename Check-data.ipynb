{
 "cells": [
  {
   "cell_type": "code",
   "execution_count": 1,
   "id": "d2a79159",
   "metadata": {},
   "outputs": [],
   "source": [
    "import pandas as pd"
   ]
  },
  {
   "cell_type": "code",
   "execution_count": 2,
   "id": "98938ca9",
   "metadata": {},
   "outputs": [],
   "source": [
    "df=pd.read_csv('datasample.csv')"
   ]
  },
  {
   "cell_type": "code",
   "execution_count": 3,
   "id": "79b2290b",
   "metadata": {},
   "outputs": [
    {
     "data": {
      "text/html": [
       "<div>\n",
       "<style scoped>\n",
       "    .dataframe tbody tr th:only-of-type {\n",
       "        vertical-align: middle;\n",
       "    }\n",
       "\n",
       "    .dataframe tbody tr th {\n",
       "        vertical-align: top;\n",
       "    }\n",
       "\n",
       "    .dataframe thead th {\n",
       "        text-align: right;\n",
       "    }\n",
       "</style>\n",
       "<table border=\"1\" class=\"dataframe\">\n",
       "  <thead>\n",
       "    <tr style=\"text-align: right;\">\n",
       "      <th></th>\n",
       "      <th>Số thứ tự</th>\n",
       "      <th>Mã số thuế</th>\n",
       "      <th>Tên doanh nghiệp</th>\n",
       "      <th>Loại hình doanh nghiệp</th>\n",
       "      <th>Địa chỉ trụ sở</th>\n",
       "      <th>Ngành cấp I</th>\n",
       "      <th>Tình trạng</th>\n",
       "      <th>Lý do</th>\n",
       "      <th>Ngày giải thể</th>\n",
       "    </tr>\n",
       "  </thead>\n",
       "  <tbody>\n",
       "    <tr>\n",
       "      <th>0</th>\n",
       "      <td>1</td>\n",
       "      <td>1.801075e+09</td>\n",
       "      <td>CÔNG TY CỔ PHẦN TƯ VẤN ĐẦU TƯ VIỆT THẮNG</td>\n",
       "      <td>Công ty cổ phần</td>\n",
       "      <td>Phòng 11-1, tầng 11, tòa nhà Gilimex, số 24C P...</td>\n",
       "      <td>HOẠT ĐỘNG TÀI CHÍNH, NGÂN HÀNG VÀ BẢO HIỂM</td>\n",
       "      <td>Đã giải thể, phá sản, chấm dứt tồn tại</td>\n",
       "      <td>Công ty hoạt động không hiệu quả</td>\n",
       "      <td>26/01/2016</td>\n",
       "    </tr>\n",
       "    <tr>\n",
       "      <th>1</th>\n",
       "      <td>2</td>\n",
       "      <td>3.060218e+08</td>\n",
       "      <td>CÔNG TY TNHH XUẤT NHẬP KHẨU HƯNG LONG</td>\n",
       "      <td>Công ty trách nhiệm hữu hạn hai thành viên trở...</td>\n",
       "      <td>2D Nguyễn Hiến Lê, Phường 13, Quận Tân Bình, T...</td>\n",
       "      <td>HOẠT ĐỘNG CHUYÊN MÔN, KHOA HỌC VÀ CÔNG NGHỆ</td>\n",
       "      <td>Đã giải thể, phá sản, chấm dứt tồn tại</td>\n",
       "      <td>kinh doanh không hiệu quả</td>\n",
       "      <td>10/06/2017</td>\n",
       "    </tr>\n",
       "    <tr>\n",
       "      <th>2</th>\n",
       "      <td>3</td>\n",
       "      <td>3.094317e+08</td>\n",
       "      <td>CÔNG TY TNHH ĐẦU TƯ RỪNG XANH</td>\n",
       "      <td>Công ty trách nhiệm hữu hạn hai thành viên trở...</td>\n",
       "      <td>232 Trần Hưng Đạo, Phường Nguyễn Cư Trinh, Quậ...</td>\n",
       "      <td>NaN</td>\n",
       "      <td>Đã giải thể, phá sản, chấm dứt tồn tại</td>\n",
       "      <td>Doanh nghiệp kinh doanh không hiệu quả.</td>\n",
       "      <td>12/01/2018</td>\n",
       "    </tr>\n",
       "    <tr>\n",
       "      <th>3</th>\n",
       "      <td>4</td>\n",
       "      <td>3.097818e+08</td>\n",
       "      <td>CÔNG TY TNHH THƯƠNG MẠI DỊCH VỤ ĐẦU TƯ XÂY DỰN...</td>\n",
       "      <td>Công ty trách nhiệm hữu hạn hai thành viên trở...</td>\n",
       "      <td>96/4 Đường D1, Phường 25, Quận Bình Thạnh, Thà...</td>\n",
       "      <td>XÂY DỰNG</td>\n",
       "      <td>Đã giải thể, phá sản, chấm dứt tồn tại</td>\n",
       "      <td>Hoạt động không hiệu quả</td>\n",
       "      <td>05/02/2016</td>\n",
       "    </tr>\n",
       "    <tr>\n",
       "      <th>4</th>\n",
       "      <td>5</td>\n",
       "      <td>3.102276e+08</td>\n",
       "      <td>CÔNG TY TNHH THƯƠNG MẠI DỊCH VỤ H.A.T</td>\n",
       "      <td>Công ty trách nhiệm hữu hạn hai thành viên trở...</td>\n",
       "      <td>số 292/33/44D Bình Lợi, Phường 13, Quận Bình T...</td>\n",
       "      <td>NaN</td>\n",
       "      <td>Đã giải thể, phá sản, chấm dứt tồn tại</td>\n",
       "      <td>không thực hiên được kế hoạch kinh doanh</td>\n",
       "      <td>06/10/2017</td>\n",
       "    </tr>\n",
       "  </tbody>\n",
       "</table>\n",
       "</div>"
      ],
      "text/plain": [
       "   Số thứ tự    Mã số thuế                                   Tên doanh nghiệp  \\\n",
       "0          1  1.801075e+09           CÔNG TY CỔ PHẦN TƯ VẤN ĐẦU TƯ VIỆT THẮNG   \n",
       "1          2  3.060218e+08              CÔNG TY TNHH XUẤT NHẬP KHẨU HƯNG LONG   \n",
       "2          3  3.094317e+08                      CÔNG TY TNHH ĐẦU TƯ RỪNG XANH   \n",
       "3          4  3.097818e+08  CÔNG TY TNHH THƯƠNG MẠI DỊCH VỤ ĐẦU TƯ XÂY DỰN...   \n",
       "4          5  3.102276e+08              CÔNG TY TNHH THƯƠNG MẠI DỊCH VỤ H.A.T   \n",
       "\n",
       "                              Loại hình doanh nghiệp  \\\n",
       "0                                    Công ty cổ phần   \n",
       "1  Công ty trách nhiệm hữu hạn hai thành viên trở...   \n",
       "2  Công ty trách nhiệm hữu hạn hai thành viên trở...   \n",
       "3  Công ty trách nhiệm hữu hạn hai thành viên trở...   \n",
       "4  Công ty trách nhiệm hữu hạn hai thành viên trở...   \n",
       "\n",
       "                                      Địa chỉ trụ sở  \\\n",
       "0  Phòng 11-1, tầng 11, tòa nhà Gilimex, số 24C P...   \n",
       "1  2D Nguyễn Hiến Lê, Phường 13, Quận Tân Bình, T...   \n",
       "2  232 Trần Hưng Đạo, Phường Nguyễn Cư Trinh, Quậ...   \n",
       "3  96/4 Đường D1, Phường 25, Quận Bình Thạnh, Thà...   \n",
       "4  số 292/33/44D Bình Lợi, Phường 13, Quận Bình T...   \n",
       "\n",
       "                                   Ngành cấp I  \\\n",
       "0   HOẠT ĐỘNG TÀI CHÍNH, NGÂN HÀNG VÀ BẢO HIỂM   \n",
       "1  HOẠT ĐỘNG CHUYÊN MÔN, KHOA HỌC VÀ CÔNG NGHỆ   \n",
       "2                                          NaN   \n",
       "3                                     XÂY DỰNG   \n",
       "4                                          NaN   \n",
       "\n",
       "                               Tình trạng  \\\n",
       "0  Đã giải thể, phá sản, chấm dứt tồn tại   \n",
       "1  Đã giải thể, phá sản, chấm dứt tồn tại   \n",
       "2  Đã giải thể, phá sản, chấm dứt tồn tại   \n",
       "3  Đã giải thể, phá sản, chấm dứt tồn tại   \n",
       "4  Đã giải thể, phá sản, chấm dứt tồn tại   \n",
       "\n",
       "                                      Lý do Ngày giải thể  \n",
       "0          Công ty hoạt động không hiệu quả    26/01/2016  \n",
       "1                 kinh doanh không hiệu quả    10/06/2017  \n",
       "2   Doanh nghiệp kinh doanh không hiệu quả.    12/01/2018  \n",
       "3                  Hoạt động không hiệu quả    05/02/2016  \n",
       "4  không thực hiên được kế hoạch kinh doanh    06/10/2017  "
      ]
     },
     "execution_count": 3,
     "metadata": {},
     "output_type": "execute_result"
    }
   ],
   "source": [
    "df.head()"
   ]
  },
  {
   "cell_type": "code",
   "execution_count": 4,
   "id": "34f4f5d6",
   "metadata": {},
   "outputs": [
    {
     "data": {
      "text/plain": [
       "Số thứ tự                    0\n",
       "Mã số thuế                   1\n",
       "Tên doanh nghiệp             0\n",
       "Loại hình doanh nghiệp       0\n",
       "Địa chỉ trụ sở               0\n",
       "Ngành cấp I               2129\n",
       "Tình trạng                   0\n",
       "Lý do                       30\n",
       "Ngày giải thể                0\n",
       "dtype: int64"
      ]
     },
     "execution_count": 4,
     "metadata": {},
     "output_type": "execute_result"
    }
   ],
   "source": [
    "df.isnull().sum()"
   ]
  },
  {
   "cell_type": "code",
   "execution_count": 5,
   "id": "594928d4",
   "metadata": {},
   "outputs": [
    {
     "data": {
      "text/plain": [
       "('BÁN BUÔN VÀ BÁN LẺ; SỬA CHỮA Ô TÔ, MÔ TÔ, XE MÁY VÀ XE CÓ ĐỘNG CƠ KHÁC',\n",
       " 'Kinh doanh không hiệu quả')"
      ]
     },
     "execution_count": 5,
     "metadata": {},
     "output_type": "execute_result"
    }
   ],
   "source": [
    "most_frequent_value1 = df['Ngành cấp I'].value_counts().idxmax()\n",
    "most_frequent_value2 = df['Lý do'].value_counts().idxmax()\n",
    "most_frequent_value1, most_frequent_value2"
   ]
  },
  {
   "cell_type": "code",
   "execution_count": 6,
   "id": "2ce6c87c",
   "metadata": {},
   "outputs": [],
   "source": [
    "df['Ngành cấp I'] = df['Ngành cấp I'].fillna(value=most_frequent_value1)"
   ]
  },
  {
   "cell_type": "code",
   "execution_count": 7,
   "id": "af81c167",
   "metadata": {},
   "outputs": [],
   "source": [
    "df['Lý do'] = df['Lý do'].fillna(value=most_frequent_value2)"
   ]
  },
  {
   "cell_type": "code",
   "execution_count": 8,
   "id": "011e3304",
   "metadata": {},
   "outputs": [],
   "source": [
    "median = df['Mã số thuế'].median()\n",
    "df = df.fillna({'Mã số thuế': median})"
   ]
  },
  {
   "cell_type": "code",
   "execution_count": 9,
   "id": "366bbeed",
   "metadata": {},
   "outputs": [
    {
     "data": {
      "text/plain": [
       "Số thứ tự                 0\n",
       "Mã số thuế                0\n",
       "Tên doanh nghiệp          0\n",
       "Loại hình doanh nghiệp    0\n",
       "Địa chỉ trụ sở            0\n",
       "Ngành cấp I               0\n",
       "Tình trạng                0\n",
       "Lý do                     0\n",
       "Ngày giải thể             0\n",
       "dtype: int64"
      ]
     },
     "execution_count": 9,
     "metadata": {},
     "output_type": "execute_result"
    }
   ],
   "source": [
    "df.isnull().sum()"
   ]
  },
  {
   "cell_type": "code",
   "execution_count": 51,
   "id": "b5b84361",
   "metadata": {},
   "outputs": [
    {
     "data": {
      "text/plain": [
       "Số thứ tự                   int64\n",
       "Mã số thuế                float64\n",
       "Tên doanh nghiệp           object\n",
       "Loại hình doanh nghiệp     object\n",
       "Địa chỉ trụ sở             object\n",
       "Ngành cấp I                object\n",
       "Tình trạng                 object\n",
       "Lý do                      object\n",
       "Ngày giải thể              object\n",
       "dtype: object"
      ]
     },
     "execution_count": 51,
     "metadata": {},
     "output_type": "execute_result"
    }
   ],
   "source": [
    "df.dtypes"
   ]
  },
  {
   "cell_type": "code",
   "execution_count": 53,
   "id": "094ed3a0",
   "metadata": {},
   "outputs": [
    {
     "name": "stderr",
     "output_type": "stream",
     "text": [
      "C:\\Users\\ngois\\AppData\\Local\\Temp\\ipykernel_1156\\609789036.py:1: UserWarning: Parsing dates in DD/MM/YYYY format when dayfirst=False (the default) was specified. This may lead to inconsistently parsed dates! Specify a format to ensure consistent parsing.\n",
      "  df['Ngày giải thể'] = pd.to_datetime(df['Ngày giải thể'])\n"
     ]
    }
   ],
   "source": [
    "df['Ngày giải thể'] = pd.to_datetime(df['Ngày giải thể'])"
   ]
  },
  {
   "cell_type": "code",
   "execution_count": 54,
   "id": "71e39988",
   "metadata": {},
   "outputs": [
    {
     "data": {
      "text/plain": [
       "Số thứ tự                          int64\n",
       "Mã số thuế                       float64\n",
       "Tên doanh nghiệp                  object\n",
       "Loại hình doanh nghiệp            object\n",
       "Địa chỉ trụ sở                    object\n",
       "Ngành cấp I                       object\n",
       "Tình trạng                        object\n",
       "Lý do                             object\n",
       "Ngày giải thể             datetime64[ns]\n",
       "dtype: object"
      ]
     },
     "execution_count": 54,
     "metadata": {},
     "output_type": "execute_result"
    }
   ],
   "source": [
    "df.dtypes"
   ]
  },
  {
   "cell_type": "code",
   "execution_count": null,
   "id": "0ecb0934",
   "metadata": {},
   "outputs": [],
   "source": []
  }
 ],
 "metadata": {
  "kernelspec": {
   "display_name": "Python 3 (ipykernel)",
   "language": "python",
   "name": "python3"
  },
  "language_info": {
   "codemirror_mode": {
    "name": "ipython",
    "version": 3
   },
   "file_extension": ".py",
   "mimetype": "text/x-python",
   "name": "python",
   "nbconvert_exporter": "python",
   "pygments_lexer": "ipython3",
   "version": "3.10.0"
  }
 },
 "nbformat": 4,
 "nbformat_minor": 5
}
